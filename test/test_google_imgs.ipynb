{
 "cells": [
  {
   "cell_type": "code",
   "execution_count": 3,
   "metadata": {},
   "outputs": [],
   "source": [
    "import os, sys\n",
    "from IPython import display\n",
    "rootPath = \"/home/alyosha/work/git/mtgdeckconstructor/\"\n",
    "sys.path.append(rootPath)\n",
    "\n",
    "from src.lib.request_lib import query_google_imgs, get_image_by_url"
   ]
  },
  {
   "cell_type": "code",
   "execution_count": 2,
   "metadata": {},
   "outputs": [
    {
     "name": "stdout",
     "output_type": "stream",
     "text": [
      "{'kind': 'customsearch#search', 'url': {'type': 'application/json', 'template': 'https://www.googleapis.com/customsearch/v1?q={searchTerms}&num={count?}&start={startIndex?}&lr={language?}&safe={safe?}&cx={cx?}&sort={sort?}&filter={filter?}&gl={gl?}&cr={cr?}&googlehost={googleHost?}&c2coff={disableCnTwTranslation?}&hq={hq?}&hl={hl?}&siteSearch={siteSearch?}&siteSearchFilter={siteSearchFilter?}&exactTerms={exactTerms?}&excludeTerms={excludeTerms?}&linkSite={linkSite?}&orTerms={orTerms?}&relatedSite={relatedSite?}&dateRestrict={dateRestrict?}&lowRange={lowRange?}&highRange={highRange?}&searchType={searchType}&fileType={fileType?}&rights={rights?}&imgSize={imgSize?}&imgType={imgType?}&imgColorType={imgColorType?}&imgDominantColor={imgDominantColor?}&alt=json'}, 'queries': {'request': [{'title': 'Google Custom Search - flower', 'totalResults': '12440000000', 'searchTerms': 'flower', 'count': 10, 'startIndex': 1, 'inputEncoding': 'utf8', 'outputEncoding': 'utf8', 'safe': 'off', 'cx': '011399448467047155191:ylglxugzmr8', 'searchType': 'image', 'imgSize': 'large'}], 'nextPage': [{'title': 'Google Custom Search - flower', 'totalResults': '12440000000', 'searchTerms': 'flower', 'count': 10, 'startIndex': 11, 'inputEncoding': 'utf8', 'outputEncoding': 'utf8', 'safe': 'off', 'cx': '011399448467047155191:ylglxugzmr8', 'searchType': 'image', 'imgSize': 'large'}]}, 'context': {'title': 'MTG_Searcher'}, 'searchInformation': {'searchTime': 0.938118, 'formattedSearchTime': '0.94', 'totalResults': '12440000000', 'formattedTotalResults': '12,440,000,000'}, 'items': [{'kind': 'customsearch#result', 'title': 'Flower - Wikipedia', 'htmlTitle': '<b>Flower</b> - Wikipedia', 'link': 'https://upload.wikimedia.org/wikipedia/commons/thumb/a/a5/Flower_poster_2.jpg/330px-Flower_poster_2.jpg', 'displayLink': 'en.wikipedia.org', 'snippet': 'Flower - Wikipedia', 'htmlSnippet': '<b>Flower</b> - Wikipedia', 'mime': 'image/jpeg', 'fileFormat': 'image/jpeg', 'image': {'contextLink': 'https://en.wikipedia.org/wiki/Flower', 'height': 439, 'width': 330, 'byteSize': 52961, 'thumbnailLink': 'https://encrypted-tbn0.gstatic.com/images?q=tbn:ANd9GcQmiTDeyQ00NnOg4rzO3hcXRuhJuDuy3IIeYAhjEsJVL4LhXswE2buuDQ&s', 'thumbnailHeight': 127, 'thumbnailWidth': 95}}, {'kind': 'customsearch#result', 'title': '200,000+ Flower Images & Pictures [HD] - Pixabay', 'htmlTitle': '200,000+ <b>Flower</b> Images &amp; Pictures [HD] - Pixabay', 'link': 'https://cdn.pixabay.com/photo/2015/04/19/08/32/marguerite-729510__340.jpg', 'displayLink': 'pixabay.com', 'snippet': '200,000+ Flower Images & Pictures [HD] - Pixabay', 'htmlSnippet': '200,000+ <b>Flower</b> Images &amp; Pictures [HD] - Pixabay', 'mime': 'image/jpeg', 'fileFormat': 'image/jpeg', 'image': {'contextLink': 'https://pixabay.com/images/search/flowers/', 'height': 340, 'width': 522, 'byteSize': 20290, 'thumbnailLink': 'https://encrypted-tbn0.gstatic.com/images?q=tbn:ANd9GcRwtBamYpaBv1WyXemOuGBdgsAuiiM9zl8D2TSCy3xs-stnQ41oi5qhaA&s', 'thumbnailHeight': 85, 'thumbnailWidth': 131}}, {'kind': 'customsearch#result', 'title': 'flower | Definition, Anatomy, Physiology, & Facts | Britannica', 'htmlTitle': '<b>flower</b> | Definition, Anatomy, Physiology, &amp; Facts | Britannica', 'link': 'https://cdn.britannica.com/84/73184-004-E5A450B5/Sunflower-field-Fargo-North-Dakota.jpg', 'displayLink': 'www.britannica.com', 'snippet': 'flower | Definition, Anatomy, Physiology, & Facts | Britannica', 'htmlSnippet': '<b>flower</b> | Definition, Anatomy, Physiology, &amp; Facts | Britannica', 'mime': 'image/jpeg', 'fileFormat': 'image/jpeg', 'image': {'contextLink': 'https://www.britannica.com/science/flower', 'height': 340, 'width': 550, 'byteSize': 44207, 'thumbnailLink': 'https://encrypted-tbn0.gstatic.com/images?q=tbn:ANd9GcRqDq8Dsze9yy1Q59LJK3Vv6McEXmfeUwIePdVfO7Oc-FkYpcHdT2I3BQ&s', 'thumbnailHeight': 82, 'thumbnailWidth': 133}}, {'kind': 'customsearch#result', 'title': 'Flower images · Pexels · Free Stock Photos', 'htmlTitle': '<b>Flower</b> images · Pexels · Free Stock Photos', 'link': 'https://images.pexels.com/photos/736230/pexels-photo-736230.jpeg?auto=compress&cs=tinysrgb&dpr=1&w=500', 'displayLink': 'www.pexels.com', 'snippet': 'Flower images · Pexels · Free Stock Photos', 'htmlSnippet': '<b>Flower</b> images · Pexels · Free Stock Photos', 'mime': 'image/jpeg', 'fileFormat': 'image/jpeg', 'image': {'contextLink': 'https://www.pexels.com/search/flower/', 'height': 750, 'width': 500, 'byteSize': 27819, 'thumbnailLink': 'https://encrypted-tbn0.gstatic.com/images?q=tbn:ANd9GcSkwUWI_nFIyHMo0OBdQDBHbXtIjTrxn4afnrCYLLpcYQG6tq5OMkDeXLI&s', 'thumbnailHeight': 141, 'thumbnailWidth': 94}}, {'kind': 'customsearch#result', 'title': '25 Yellow Flowers for Gardens - Perennials & Annuals with Yellow ...', 'htmlTitle': '25 Yellow <b>Flowers</b> for Gardens - Perennials &amp; Annuals with Yellow ...', 'link': 'https://hips.hearstapps.com/hmg-prod.s3.amazonaws.com/images/yellow-flowers-1587061884.jpg?crop=0.667xw:1.00xh;0.167xw,0&resize=640:*', 'displayLink': 'www.countryliving.com', 'snippet': '25 Yellow Flowers for Gardens - Perennials & Annuals with Yellow ...', 'htmlSnippet': '25 Yellow <b>Flowers</b> for Gardens - Perennials &amp; Annuals with Yellow ...', 'mime': 'image/jpeg', 'fileFormat': 'image/jpeg', 'image': {'contextLink': 'https://www.countryliving.com/gardening/garden-ideas/g25716277/yellow-flowers/', 'height': 640, 'width': 640, 'byteSize': 71589, 'thumbnailLink': 'https://encrypted-tbn0.gstatic.com/images?q=tbn:ANd9GcQIyPirCr9jgGiPWRDIWSLY_ZOjSDyhf6EVbWTt4o_jLVX73YWa2_gfovY&s', 'thumbnailHeight': 137, 'thumbnailWidth': 137}}, {'kind': 'customsearch#result', 'title': \"Flower of the Month Club | The World's Most Popular Flower Club ...\", 'htmlTitle': '<b>Flower</b> of the Month Club | The World&#39;s Most Popular <b>Flower</b> Club ...', 'link': 'https://www.amazingclubs.com/img/flowergiftclub.jpg', 'displayLink': 'www.amazingclubs.com', 'snippet': \"Flower of the Month Club | The World's Most Popular Flower Club ...\", 'htmlSnippet': '<b>Flower</b> of the Month Club | The World&#39;s Most Popular <b>Flower</b> Club ...', 'mime': 'image/jpeg', 'fileFormat': 'image/jpeg', 'image': {'contextLink': 'https://www.amazingclubs.com/flower.html', 'height': 500, 'width': 500, 'byteSize': 48058, 'thumbnailLink': 'https://encrypted-tbn0.gstatic.com/images?q=tbn:ANd9GcQlbC_RRW3XFXAmkOmnd4dk5cj9bLWNtZwYP8rAjXTy1hAYtF940gNBgZIk&s', 'thumbnailHeight': 130, 'thumbnailWidth': 130}}, {'kind': 'customsearch#result', 'title': \"Best Mother's Day flower delivery deals, discounts & same-day ...\", 'htmlTitle': 'Best Mother&#39;s Day <b>flower</b> delivery deals, discounts &amp; same-day ...', 'link': 'https://www.androidcentral.com/sites/androidcentral.com/files/styles/mediumplus/public/article_images/2020/05/flowers-mothers-day.jpg?itok=klLdI66C', 'displayLink': 'www.androidcentral.com', 'snippet': \"Best Mother's Day flower delivery deals, discounts & same-day ...\", 'htmlSnippet': 'Best Mother&#39;s Day <b>flower</b> delivery deals, discounts &amp; same-day ...', 'mime': 'image/jpeg', 'fileFormat': 'image/jpeg', 'image': {'contextLink': 'https://www.androidcentral.com/best-flower-delivery-services', 'height': 450, 'width': 600, 'byteSize': 76257, 'thumbnailLink': 'https://encrypted-tbn0.gstatic.com/images?q=tbn:ANd9GcTo3gsYqe9mDXxSKdVlAFqcQ4MXldgdsnysFWMDq9zI0xvmoOvqBoUU2Q&s', 'thumbnailHeight': 101, 'thumbnailWidth': 135}}, {'kind': 'customsearch#result', 'title': '60 Best Types of Flowers – Pretty Pictures of Garden Flowers', 'htmlTitle': '60 Best Types of <b>Flowers</b> – Pretty Pictures of Garden <b>Flowers</b>', 'link': 'https://hips.hearstapps.com/hmg-prod.s3.amazonaws.com/images/types-of-flowers-1579719085.jpg?crop=0.671xw:1.00xh;0.189xw,0&resize=640:*', 'displayLink': 'www.countryliving.com', 'snippet': '60 Best Types of Flowers – Pretty Pictures of Garden Flowers', 'htmlSnippet': '60 Best Types of <b>Flowers</b> – Pretty Pictures of Garden <b>Flowers</b>', 'mime': 'image/jpeg', 'fileFormat': 'image/jpeg', 'image': {'contextLink': 'https://www.countryliving.com/gardening/g3280/flower-pictures/', 'height': 636, 'width': 640, 'byteSize': 102488, 'thumbnailLink': 'https://encrypted-tbn0.gstatic.com/images?q=tbn:ANd9GcQsnhuRXV9LpNdPNKDODM-pBD7byOLNxToULiuMD4oif8Oa0aYkGxK6kPk&s', 'thumbnailHeight': 136, 'thumbnailWidth': 137}}, {'kind': 'customsearch#result', 'title': 'Zinnias: How to Plant, Grow, and Care for Zinnia Flowers | The Old ...', 'htmlTitle': 'Zinnias: How to Plant, Grow, and Care for Zinnia <b>Flowers</b> | The Old ...', 'link': 'https://www.almanac.com/sites/default/files/styles/primary_image_in_article/public/image_nodes/zinnias-assorted-edit.jpg?itok=FA-Rqlos', 'displayLink': 'www.almanac.com', 'snippet': 'Zinnias: How to Plant, Grow, and Care for Zinnia Flowers | The Old ...', 'htmlSnippet': 'Zinnias: How to Plant, Grow, and Care for Zinnia <b>Flowers</b> | The Old ...', 'mime': 'image/jpeg', 'fileFormat': 'image/jpeg', 'image': {'contextLink': 'https://www.almanac.com/plant/zinnias', 'height': 480, 'width': 720, 'byteSize': 70802, 'thumbnailLink': 'https://encrypted-tbn0.gstatic.com/images?q=tbn:ANd9GcS-GAfi7JOFRVwiimXHALB2n0osd87udcAoYq2CsUf-mMCju-JK9oYGNuc&s', 'thumbnailHeight': 93, 'thumbnailWidth': 140}}, {'kind': 'customsearch#result', 'title': 'Kenton Florist | Kenton OH Flower Shop | BLOSSOM GALLERY FLORIST', 'htmlTitle': 'Kenton Florist | Kenton OH <b>Flower</b> Shop | BLOSSOM GALLERY FLORIST', 'link': 'https://cdn.atwilltech.com/flowerdatabase/_/256.365.jpg', 'displayLink': 'www.blossomgalleryflorist.com', 'snippet': 'Kenton Florist | Kenton OH Flower Shop | BLOSSOM GALLERY FLORIST', 'htmlSnippet': 'Kenton Florist | Kenton OH <b>Flower</b> Shop | BLOSSOM GALLERY FLORIST', 'mime': 'image/jpeg', 'fileFormat': 'image/jpeg', 'image': {'contextLink': 'https://www.blossomgalleryflorist.com/', 'height': 442, 'width': 365, 'byteSize': 33311, 'thumbnailLink': 'https://encrypted-tbn0.gstatic.com/images?q=tbn:ANd9GcQcjgd2y0IMuJ7kSkgGpts_BTFFeM-loMcf3vQCNYIOIjdcdOMP881jpg&s', 'thumbnailHeight': 127, 'thumbnailWidth': 105}}]}\n"
     ]
    }
   ],
   "source": [
    "imgsQuery = query_google_imgs(rootPath, {\"q\":\"flower\", \"searchType\":\"image\", \"imgSize\":\"large\"})\n",
    "print(imgsQuery)"
   ]
  },
  {
   "cell_type": "code",
   "execution_count": 3,
   "metadata": {},
   "outputs": [
    {
     "data": {
      "text/plain": [
       "dict_keys(['kind', 'url', 'queries', 'context', 'searchInformation', 'items'])"
      ]
     },
     "execution_count": 3,
     "metadata": {},
     "output_type": "execute_result"
    }
   ],
   "source": [
    "imgsQuery.keys()"
   ]
  },
  {
   "cell_type": "code",
   "execution_count": 6,
   "metadata": {},
   "outputs": [
    {
     "ename": "OSError",
     "evalue": "cannot identify image file <_io.BytesIO object at 0x7f2834dcd728>",
     "output_type": "error",
     "traceback": [
      "\u001b[0;31m---------------------------------------------------------------------------\u001b[0m",
      "\u001b[0;31mOSError\u001b[0m                                   Traceback (most recent call last)",
      "\u001b[0;32m<ipython-input-6-94e212ea08ee>\u001b[0m in \u001b[0;36m<module>\u001b[0;34m()\u001b[0m\n\u001b[1;32m      1\u001b[0m \u001b[0;32mfor\u001b[0m \u001b[0mitem\u001b[0m \u001b[0;32min\u001b[0m \u001b[0mimgsQuery\u001b[0m\u001b[0;34m[\u001b[0m\u001b[0;34m'items'\u001b[0m\u001b[0;34m]\u001b[0m\u001b[0;34m:\u001b[0m\u001b[0;34m\u001b[0m\u001b[0m\n\u001b[0;32m----> 2\u001b[0;31m     \u001b[0mget_image_by_url\u001b[0m\u001b[0;34m(\u001b[0m\u001b[0mitem\u001b[0m\u001b[0;34m[\u001b[0m\u001b[0;34m'link'\u001b[0m\u001b[0;34m]\u001b[0m\u001b[0;34m)\u001b[0m\u001b[0;34m.\u001b[0m\u001b[0mshow\u001b[0m\u001b[0;34m(\u001b[0m\u001b[0;34m)\u001b[0m\u001b[0;34m\u001b[0m\u001b[0m\n\u001b[0m",
      "\u001b[0;32m~/work/git/mtgdeckconstructor/src/lib/request_lib.py\u001b[0m in \u001b[0;36mget_image_by_url\u001b[0;34m(url)\u001b[0m\n\u001b[1;32m     34\u001b[0m \u001b[0;34m\u001b[0m\u001b[0m\n\u001b[1;32m     35\u001b[0m \u001b[0;32mdef\u001b[0m \u001b[0mget_image_by_url\u001b[0m\u001b[0;34m(\u001b[0m\u001b[0murl\u001b[0m\u001b[0;34m)\u001b[0m\u001b[0;34m:\u001b[0m\u001b[0;34m\u001b[0m\u001b[0m\n\u001b[0;32m---> 36\u001b[0;31m     \u001b[0;32mreturn\u001b[0m \u001b[0mImage\u001b[0m\u001b[0;34m.\u001b[0m\u001b[0mopen\u001b[0m\u001b[0;34m(\u001b[0m\u001b[0mBytesIO\u001b[0m\u001b[0;34m(\u001b[0m\u001b[0mrequests\u001b[0m\u001b[0;34m.\u001b[0m\u001b[0mget\u001b[0m\u001b[0;34m(\u001b[0m\u001b[0murl\u001b[0m\u001b[0;34m)\u001b[0m\u001b[0;34m.\u001b[0m\u001b[0mcontent\u001b[0m\u001b[0;34m)\u001b[0m\u001b[0;34m)\u001b[0m\u001b[0;34m\u001b[0m\u001b[0m\n\u001b[0m",
      "\u001b[0;32m/opt/anaconda3/lib/python3.7/site-packages/PIL/Image.py\u001b[0m in \u001b[0;36mopen\u001b[0;34m(fp, mode)\u001b[0m\n\u001b[1;32m   2620\u001b[0m         \u001b[0mfp\u001b[0m\u001b[0;34m.\u001b[0m\u001b[0mclose\u001b[0m\u001b[0;34m(\u001b[0m\u001b[0;34m)\u001b[0m\u001b[0;34m\u001b[0m\u001b[0m\n\u001b[1;32m   2621\u001b[0m     raise IOError(\"cannot identify image file %r\"\n\u001b[0;32m-> 2622\u001b[0;31m                   % (filename if filename else fp))\n\u001b[0m\u001b[1;32m   2623\u001b[0m \u001b[0;34m\u001b[0m\u001b[0m\n\u001b[1;32m   2624\u001b[0m \u001b[0;31m#\u001b[0m\u001b[0;34m\u001b[0m\u001b[0;34m\u001b[0m\u001b[0m\n",
      "\u001b[0;31mOSError\u001b[0m: cannot identify image file <_io.BytesIO object at 0x7f2834dcd728>"
     ]
    }
   ],
   "source": [
    "for item in imgsQuery['items']:\n",
    "    get_image_by_url(item['link']).show()"
   ]
  },
  {
   "cell_type": "code",
   "execution_count": null,
   "metadata": {},
   "outputs": [],
   "source": []
  }
 ],
 "metadata": {
  "kernelspec": {
   "display_name": "Python 3",
   "language": "python",
   "name": "python3"
  },
  "language_info": {
   "codemirror_mode": {
    "name": "ipython",
    "version": 3
   },
   "file_extension": ".py",
   "mimetype": "text/x-python",
   "name": "python",
   "nbconvert_exporter": "python",
   "pygments_lexer": "ipython3",
   "version": "3.7.0"
  }
 },
 "nbformat": 4,
 "nbformat_minor": 2
}
